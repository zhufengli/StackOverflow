{
 "cells": [
  {
   "cell_type": "markdown",
   "metadata": {},
   "source": [
    "### This notebook aims to generate smaller dataset we need for further use. With this memory recycle mecanism, we merely need less than 2G memory. Hash table method is used for speed reason."
   ]
  },
  {
   "cell_type": "code",
   "execution_count": 6,
   "metadata": {},
   "outputs": [],
   "source": [
    "import xml.etree.ElementTree as et \n",
    "from datetime import datetime, date\n",
    "import csv\n",
    "import numpy as np\n",
    "import pandas as pd\n",
    "import gc\n",
    "from collections import defaultdict"
   ]
  },
  {
   "cell_type": "code",
   "execution_count": 2,
   "metadata": {
    "scrolled": true
   },
   "outputs": [
    {
     "name": "stdout",
     "output_type": "stream",
     "text": [
      "﻿<?xml version=\"1.0\" encoding=\"utf-8\"?>\n",
      "\n",
      "<posts>\n",
      "\n",
      "  <row Id=\"4\" PostTypeId=\"1\" AcceptedAnswerId=\"7\" CreationDate=\"2008-07-31T21:42:52.667\" Score=\"630\" ViewCount=\"42817\" Body=\"&lt;p&gt;I want to use a track-bar to change a form's opacity.&lt;/p&gt;&#xA;&#xA;&lt;p&gt;This is my code:&lt;/p&gt;&#xA;&#xA;&lt;pre&gt;&lt;code&gt;decimal trans = trackBar1.Value / 5000;&#xA;this.Opacity = trans;&#xA;&lt;/code&gt;&lt;/pre&gt;&#xA;&#xA;&lt;p&gt;When I build the application, it gives the following error:&lt;/p&gt;&#xA;&#xA;&lt;blockquote&gt;&#xA;  &lt;p&gt;Cannot implicitly convert type &lt;code&gt;'decimal'&lt;/code&gt; to &lt;code&gt;'double'&lt;/code&gt;&lt;/p&gt;&#xA;&lt;/blockquote&gt;&#xA;&#xA;&lt;p&gt;I tried using &lt;code&gt;trans&lt;/code&gt; and &lt;code&gt;double&lt;/code&gt; but then the control doesn't work. This code worked fine in a past VB.NET project.&lt;/p&gt;&#xA;\" OwnerUserId=\"8\" LastEditorUserId=\"3641067\" LastEditorDisplayName=\"Rich B\" LastEditDate=\"2019-07-19T01:39:54.173\" LastActivityDate=\"2019-07-19T01:39:54.173\" Title=\"Convert Decimal to Double?\" Tags=\"&lt;c#&gt;&lt;floating-point&gt;&lt;type-conversion&gt;&lt;double&gt;&lt;decimal&gt;\" AnswerCount=\"13\" CommentCount=\"2\" FavoriteCount=\"48\" CommunityOwnedDate=\"2012-10-31T16:42:47.213\" />\n",
      "\n",
      "  <row Id=\"6\" PostTypeId=\"1\" AcceptedAnswerId=\"31\" CreationDate=\"2008-07-31T22:08:08.620\" Score=\"281\" ViewCount=\"18214\" Body=\"&lt;p&gt;I have an absolutely positioned &lt;code&gt;div&lt;/code&gt; containing several children, one of which is a relatively positioned &lt;code&gt;div&lt;/code&gt;. When I use a &lt;code&gt;percentage-based width&lt;/code&gt; on the child &lt;code&gt;div&lt;/code&gt;, it collapses to &lt;code&gt;0 width&lt;/code&gt; on IE7, but not on Firefox or Safari.&lt;/p&gt;&#xA;&#xA;&lt;p&gt;If I use &lt;code&gt;pixel width&lt;/code&gt;, it works. If the parent is relatively positioned, the percentage width on the child works.&lt;/p&gt;&#xA;&#xA;&lt;ol&gt;&#xA;&lt;li&gt;Is there something I'm missing here?&lt;/li&gt;&#xA;&lt;li&gt;Is there an easy fix for this besides the &lt;code&gt;pixel-based width&lt;/code&gt; on the&#xA;child?&lt;/li&gt;&#xA;&lt;li&gt;Is there an area of the CSS specification that covers this?&lt;/li&gt;&#xA;&lt;/ol&gt;&#xA;\" OwnerUserId=\"9\" LastEditorUserId=\"3641067\" LastEditorDisplayName=\"Rich B\" LastEditDate=\"2019-07-19T01:43:04.077\" LastActivityDate=\"2019-07-19T01:43:04.077\" Title=\"Percentage width child element in absolutely positioned parent on Internet Explorer 7\" Tags=\"&lt;html&gt;&lt;css&gt;&lt;internet-explorer-7&gt;\" AnswerCount=\"6\" CommentCount=\"0\" FavoriteCount=\"10\" />\n",
      "\n",
      "  <row Id=\"7\" PostTypeId=\"2\" ParentId=\"4\" CreationDate=\"2008-07-31T22:17:57.883\" Score=\"425\" Body=\"&lt;p&gt;An explicit cast to double like this isn't necessary:&lt;/p&gt;&#xA;&#xA;&lt;pre&gt;&lt;code&gt;double trans = (double) trackBar1.Value / 5000.0;&#xA;&lt;/code&gt;&lt;/pre&gt;&#xA;&#xA;&lt;p&gt;Identifying the constant as &lt;code&gt;5000.0&lt;/code&gt; (or as &lt;code&gt;5000d&lt;/code&gt;) is sufficient:&lt;/p&gt;&#xA;&#xA;&lt;pre&gt;&lt;code&gt;double trans = trackBar1.Value / 5000.0;&#xA;double trans = trackBar1.Value / 5000d;&#xA;&lt;/code&gt;&lt;/pre&gt;&#xA;\" OwnerUserId=\"9\" LastEditorUserId=\"4020527\" LastEditDate=\"2017-12-16T05:06:57.613\" LastActivityDate=\"2017-12-16T05:06:57.613\" CommentCount=\"0\" />\n",
      "\n",
      "  <row Id=\"9\" PostTypeId=\"1\" AcceptedAnswerId=\"1404\" CreationDate=\"2008-07-31T23:40:59.743\" Score=\"1742\" ViewCount=\"555183\" Body=\"&lt;p&gt;Given a &lt;code&gt;DateTime&lt;/code&gt; representing a person's birthday, how do I calculate their age in years?  &lt;/p&gt;&#xA;\" OwnerUserId=\"1\" LastEditorUserId=\"3956566\" LastEditorDisplayName=\"Rich B\" LastEditDate=\"2018-04-21T17:48:14.477\" LastActivityDate=\"2019-06-26T15:25:44.253\" Title=\"How do I calculate someone's age in C#?\" Tags=\"&lt;c#&gt;&lt;.net&gt;&lt;datetime&gt;\" AnswerCount=\"63\" CommentCount=\"5\" FavoriteCount=\"436\" CommunityOwnedDate=\"2011-08-16T19:40:43.080\" />\n",
      "\n",
      "  <row Id=\"11\" PostTypeId=\"1\" AcceptedAnswerId=\"1248\" CreationDate=\"2008-07-31T23:55:37.967\" Score=\"1444\" ViewCount=\"149445\" Body=\"&lt;p&gt;Given a specific &lt;code&gt;DateTime&lt;/code&gt; value, how do I display relative time, like:&lt;/p&gt;&#xA;&#xA;&lt;ul&gt;&#xA;&lt;li&gt;2 hours ago&lt;/li&gt;&#xA;&lt;li&gt;3 days ago&lt;/li&gt;&#xA;&lt;li&gt;a month ago&lt;/li&gt;&#xA;&lt;/ul&gt;&#xA;\" OwnerUserId=\"1\" LastEditorUserId=\"6479704\" LastEditorDisplayName=\"user2370523\" LastEditDate=\"2017-06-04T15:51:19.780\" LastActivityDate=\"2019-05-26T02:31:53.863\" Title=\"Calculate relative time in C#\" Tags=\"&lt;c#&gt;&lt;datetime&gt;&lt;time&gt;&lt;datediff&gt;&lt;relative-time-span&gt;\" AnswerCount=\"37\" CommentCount=\"3\" FavoriteCount=\"539\" CommunityOwnedDate=\"2009-09-04T13:15:59.820\" />\n",
      "\n",
      "  <row Id=\"12\" PostTypeId=\"2\" ParentId=\"11\" CreationDate=\"2008-07-31T23:56:41.303\" Score=\"327\" Body=\"&lt;p&gt;Here's how I do it&lt;/p&gt;&#xA;&#xA;&lt;pre class=&quot;lang-csharp prettyprint-override&quot;&gt;&lt;code&gt;var ts = new TimeSpan(DateTime.UtcNow.Ticks - dt.Ticks);&#xA;double delta = Math.Abs(ts.TotalSeconds);&#xA;&#xA;if (delta &amp;lt; 60)&#xA;{&#xA;  return ts.Seconds == 1 ? &quot;one second ago&quot; : ts.Seconds + &quot; seconds ago&quot;;&#xA;}&#xA;if (delta &amp;lt; 120)&#xA;{&#xA;  return &quot;a minute ago&quot;;&#xA;}&#xA;if (delta &amp;lt; 2700) // 45 * 60&#xA;{&#xA;  return ts.Minutes + &quot; minutes ago&quot;;&#xA;}&#xA;if (delta &amp;lt; 5400) // 90 * 60&#xA;{&#xA;  return &quot;an hour ago&quot;;&#xA;}&#xA;if (delta &amp;lt; 86400) // 24 * 60 * 60&#xA;{&#xA;  return ts.Hours + &quot; hours ago&quot;;&#xA;}&#xA;if (delta &amp;lt; 172800) // 48 * 60 * 60&#xA;{&#xA;  return &quot;yesterday&quot;;&#xA;}&#xA;if (delta &amp;lt; 2592000) // 30 * 24 * 60 * 60&#xA;{&#xA;  return ts.Days + &quot; days ago&quot;;&#xA;}&#xA;if (delta &amp;lt; 31104000) // 12 * 30 * 24 * 60 * 60&#xA;{&#xA;  int months = Convert.ToInt32(Math.Floor((double)ts.Days / 30));&#xA;  return months &amp;lt;= 1 ? &quot;one month ago&quot; : months + &quot; months ago&quot;;&#xA;}&#xA;int years = Convert.ToInt32(Math.Floor((double)ts.Days / 365));&#xA;return years &amp;lt;= 1 ? &quot;one year ago&quot; : years + &quot; years ago&quot;;&#xA;&lt;/code&gt;&lt;/pre&gt;&#xA;&#xA;&lt;p&gt;Suggestions? Comments? Ways to improve this algorithm?&lt;/p&gt;&#xA;\" OwnerUserId=\"1\" LastEditorUserId=\"1271898\" LastEditorDisplayName=\"GateKiller\" LastEditDate=\"2018-01-12T16:10:22.637\" LastActivityDate=\"2018-01-12T16:10:22.637\" CommentCount=\"11\" CommunityOwnedDate=\"2009-09-04T13:15:59.820\" />\n",
      "\n",
      "  <row Id=\"13\" PostTypeId=\"1\" CreationDate=\"2008-08-01T00:42:38.903\" Score=\"590\" ViewCount=\"176405\" Body=\"&lt;p&gt;Is there a standard way for a web server to be able to determine a user's timezone within a web page? &lt;/p&gt;&#xA;&#xA;&lt;p&gt;Perhaps from an HTTP header or part of the &lt;code&gt;user-agent&lt;/code&gt; string?&lt;/p&gt;&#xA;\" OwnerUserId=\"9\" LastEditorUserId=\"9752662\" LastEditorDisplayName=\"Rich B\" LastEditDate=\"2018-12-24T22:47:42.787\" LastActivityDate=\"2019-05-14T16:02:10.280\" Title=\"Determine a user's timezone\" Tags=\"&lt;html&gt;&lt;browser&gt;&lt;timezone&gt;&lt;user-agent&gt;&lt;timezone-offset&gt;\" AnswerCount=\"24\" CommentCount=\"10\" FavoriteCount=\"147\" />\n",
      "\n",
      "  <row Id=\"14\" PostTypeId=\"1\" CreationDate=\"2008-08-01T00:59:11.177\" Score=\"399\" ViewCount=\"123231\" Body=\"&lt;p&gt;What is the difference between &lt;a href=&quot;http://msdn.microsoft.com/en-us/library/9a6a2sxy.aspx&quot; rel=&quot;noreferrer&quot;&gt;&lt;code&gt;Math.Floor()&lt;/code&gt;&lt;/a&gt; and &lt;a href=&quot;http://msdn.microsoft.com/en-us/library/system.math.truncate.aspx&quot; rel=&quot;noreferrer&quot;&gt;&lt;code&gt;Math.Truncate()&lt;/code&gt;&lt;/a&gt; in .NET?&lt;/p&gt;&#xA;\" OwnerUserId=\"11\" OwnerDisplayName=\"Anonymous User\" LastEditorUserId=\"6495084\" LastEditorDisplayName=\"Rich B\" LastEditDate=\"2017-02-25T17:42:17.810\" LastActivityDate=\"2018-09-19T03:49:19.447\" Title=\"Difference between Math.Floor() and Math.Truncate()\" Tags=\"&lt;.net&gt;&lt;math&gt;\" AnswerCount=\"10\" CommentCount=\"4\" FavoriteCount=\"57\" />\n",
      "\n"
     ]
    }
   ],
   "source": [
    "with open(\"./Data/Posts.xml\",\"r\") as f: \n",
    "    for i in range(10):\n",
    "        print (f.readline())"
   ]
  },
  {
   "cell_type": "code",
   "execution_count": 3,
   "metadata": {},
   "outputs": [
    {
     "name": "stdout",
     "output_type": "stream",
     "text": [
      "['Id', 'PostTypeId', 'AcceptedAnswerId', 'CreationDate', 'Score', 'ViewCount', 'Body', 'OwnerUserId', 'LastEditorUserId', 'LastEditorDisplayName', 'LastEditDate', 'LastActivityDate', 'Title', 'Tags', 'AnswerCount', 'CommentCount', 'FavoriteCount', 'CommunityOwnedDate', 'ParentId', 'OwnerDisplayName', 'ClosedDate']\n"
     ]
    }
   ],
   "source": [
    "#Get Posts header table\n",
    "counter = 0\n",
    "filePath = './Data/Posts.xml'\n",
    "parser = et.iterparse(filePath)\n",
    "headers = []\n",
    "for event,elem in parser:\n",
    "    for key in elem.attrib.keys(): \n",
    "        if key not in headers:\n",
    "            headers.append(key)\n",
    "    counter += 1\n",
    "    if counter>10:\n",
    "        break\n",
    "    elem.clear()\n",
    "print (headers)\n",
    "headers.remove('LastEditDate')\n",
    "headers.remove('LastActivityDate')\n",
    "headers.remove('CommunityOwnedDate')"
   ]
  },
  {
   "cell_type": "code",
   "execution_count": 4,
   "metadata": {},
   "outputs": [],
   "source": [
    "parser = et.iterparse(filePath) #redifine is necessary\n",
    "try:\n",
    "    with open('./Question_train.csv', mode='w') as train, open('./Question_test.csv', mode='w') as test:\n",
    "        train_writer = csv.DictWriter(train, delimiter=',', fieldnames=headers)\n",
    "        train_writer.writeheader()\n",
    "    \n",
    "        test_writer = csv.DictWriter(test, delimiter=',', fieldnames=headers)\n",
    "        test_writer.writeheader()\n",
    "\n",
    "        for event,elem in parser:\n",
    "            row = {}\n",
    "            if elem.get('CreationDate') != None and elem.get('PostTypeId') == '1':\n",
    "                date_string = elem.get('CreationDate')  \n",
    "            else:\n",
    "                elem.clear()\n",
    "                continue\n",
    "            date_object = datetime.strptime(date_string[:-4], '%Y-%m-%dT%H:%M:%S')\n",
    "        \n",
    "            if date_object.date()<=date(2013, 3, 31) and date_object.date()>=date(2013, 1, 1):\n",
    "                for header in headers: \n",
    "                    row[header] = elem.get(header)\n",
    "                train_writer.writerow(row)\n",
    "            elif date_object.date()<=date(2013, 4, 30) and date_object.date()>=date(2013, 4, 1):\n",
    "                for header in headers:\n",
    "                    row[header] = elem.get(header)\n",
    "                test_writer.writerow(row)\n",
    "            elem.clear()\n",
    "except IOError as e:\n",
    "    print ('Operation failed: %s' % e.strerror)\n"
   ]
  },
  {
   "cell_type": "code",
   "execution_count": 16,
   "metadata": {},
   "outputs": [],
   "source": [
    "train_df = pd.read_csv('./Question_train.csv')\n",
    "train_checktable = train_df['Id'].tolist()\n",
    "dic_train = defaultdict(int) \n",
    "for item in train_checktable:\n",
    "    dic_train[item] = 1 \n",
    "\n",
    "test_df = pd.read_csv('./Question_test.csv')\n",
    "test_checktable = test_df['Id'].tolist()\n",
    "dic_test = defaultdict(int)\n",
    "for item in test_checktable:\n",
    "    dic_test[item] = 1 \n",
    "    \n",
    "\n",
    "filePath = './Data/Posts.xml'\n",
    "parser = et.iterparse(filePath) #redifine is necessary\n",
    "try:\n",
    "    with open('./Answer_train.csv', mode='w') as train, open('./Answer_test.csv', mode='w') as test:\n",
    "        train_writer = csv.DictWriter(train, delimiter=',', fieldnames=headers)\n",
    "        train_writer.writeheader()\n",
    "    \n",
    "        test_writer = csv.DictWriter(test, delimiter=',', fieldnames=headers)\n",
    "        test_writer.writeheader()\n",
    "\n",
    "        for event,elem in parser:\n",
    "            row = {}\n",
    "            if elem.get('ParentId') != None and int(elem.get('ParentId')) in dic_train and elem.get('PostTypeId') == '2':\n",
    "                for header in headers: \n",
    "                    row[header] = elem.get(header)\n",
    "                train_writer.writerow(row)\n",
    "            elif elem.get('ParentId') != None and int(elem.get('ParentId')) in dic_test and elem.get('PostTypeId') == '2':\n",
    "                for header in headers:\n",
    "                    row[header] = elem.get(header)\n",
    "                test_writer.writerow(row)\n",
    "            elem.clear()\n",
    "except IOError as e:\n",
    "    print ('Operation failed: %s' % e.strerror)\n",
    "    "
   ]
  },
  {
   "cell_type": "code",
   "execution_count": 6,
   "metadata": {},
   "outputs": [
    {
     "name": "stdout",
     "output_type": "stream",
     "text": [
      "﻿<?xml version=\"1.0\" encoding=\"utf-8\"?>\n",
      "\n",
      "<comments>\n",
      "\n",
      "  <row Id=\"2\" PostId=\"35314\" Score=\"9\" Text=\"Yeah, I didn't believe it until I created a console app - but good lord!  Why would they give you the rope to hang yourself!  I hated that about VB.NET - the OrElse and AndAlso keywords!\" CreationDate=\"2008-09-06T08:09:52.330\" UserId=\"3\" />\n",
      "\n",
      "  <row Id=\"4\" PostId=\"35195\" Score=\"0\" Text=\"I don't see an accepted answer now, I wonder how that got unaccepted. Incidentally, I would have marked an accepted answer based on the answers available at the time. Also, accepted doesn't mean Best :)\" CreationDate=\"2008-09-06T08:42:16.980\" UserId=\"380\" />\n",
      "\n",
      "  <row Id=\"10\" PostId=\"45651\" Score=\"6\" Text=\"It will help if you give some details of which database you are using as techniques vary.\" CreationDate=\"2008-09-06T13:38:23.647\" UserId=\"242\" />\n",
      "\n",
      "  <row Id=\"12\" PostId=\"47428\" Score=\"3\" Text=\"One of the things that make a url user-friendly is 'discover-ability', meaning you can take a guess at url's simply from the address bar. http://i.love.pets.com/search/cats+dogs could easily lead to http://i.love.pets.com/search/pug+puppies etc\" CreationDate=\"2008-09-06T13:51:47.843\" UserId=\"4642\" />\n",
      "\n",
      "  <row Id=\"14\" PostId=\"47481\" Score=\"0\" Text=\"I agree, both CodeRush and RefactorPro are visually impressive (most of which can be turned off BTW), but for navigating and refactoring Resharper is much better in my opinion of using both products.\" CreationDate=\"2008-09-06T14:15:46.897\" UserId=\"4642\" />\n",
      "\n",
      "  <row Id=\"15\" PostId=\"47373\" Score=\"0\" Text=\"Just wanted to mention that this is an excellent solution if you consider the problem to be linear (i.e. treating `A1B2` as a single number). I still think the problem is multi-dimensional, but I guess we'll just have to wait for the author to clarify :)\" CreationDate=\"2008-09-06T14:30:40.217\" UserId=\"2495\" />\n",
      "\n",
      "  <row Id=\"16\" PostId=\"47497\" Score=\"1\" Text=\"Indeed, the only way to do this is get the server to generate your CSS file which can be done in many ways depending on which language you are using. HttpHandlers are common in C#.  You could use jQuery or the likes to add styling to every element with the class 'ourColur' and parametrise your JS\" CreationDate=\"2008-09-06T14:42:35.303\" UserId=\"4642\" />\n",
      "\n",
      "  <row Id=\"18\" PostId=\"47513\" Score=\"2\" Text=\"This advice goes against the spirit of CSS, which is separation of content and presentation. You way requires changing HTML for presentation sake, and stating in content which elements have same color.\" CreationDate=\"2008-09-06T15:02:40.980\" UserId=\"2515\" />\n",
      "\n"
     ]
    }
   ],
   "source": [
    "with open(\"./Data/Comments.xml\",\"r\") as f: \n",
    "    for i in range(10):\n",
    "        print (f.readline())"
   ]
  },
  {
   "cell_type": "code",
   "execution_count": 18,
   "metadata": {},
   "outputs": [
    {
     "name": "stdout",
     "output_type": "stream",
     "text": [
      "['Id', 'PostId', 'Score', 'Text', 'CreationDate', 'UserId']\n"
     ]
    }
   ],
   "source": [
    "#Get Comments header table\n",
    "counter = 0\n",
    "filePath = './Data/Comments.xml'\n",
    "parser = et.iterparse(filePath)\n",
    "headers = []\n",
    "for event,elem in parser:\n",
    "    for key in elem.attrib.keys(): \n",
    "        if key not in headers:\n",
    "            headers.append(key)\n",
    "    counter += 1\n",
    "    if counter>10:\n",
    "        break\n",
    "    elem.clear()\n",
    "print (headers)"
   ]
  },
  {
   "cell_type": "code",
   "execution_count": 20,
   "metadata": {},
   "outputs": [],
   "source": [
    "train_df2 = pd.read_csv('./Answer_train.csv')\n",
    "Atrain_checktable = train_df2['Id'].tolist()\n",
    "\n",
    "test_df2 = pd.read_csv('./Answer_test.csv')\n",
    "Atest_checktable = test_df2['Id'].tolist()\n",
    "\n",
    "train_checklist = [*train_checktable, *Atrain_checktable]\n",
    "dic_train = defaultdict(int) \n",
    "for item in train_checklist:\n",
    "    dic_train[item] = 1 \n",
    "\n",
    "test_checklist = [*test_checktable, *Atest_checktable]\n",
    "dic_test = defaultdict(int)\n",
    "for item in test_checklist:\n",
    "    dic_test[item] = 1 \n",
    "\n",
    "\n",
    "del test_df, train_df, test_df2, train_df2\n",
    "gc.collect() \n",
    "\n",
    "parser = et.iterparse(filePath) #redifine is necessary\n",
    "try:\n",
    "    with open('./Comments_train.csv', mode='w') as train, open('./Comments_test.csv', mode='w') as test:\n",
    "        train_writer = csv.DictWriter(train, delimiter=',', fieldnames=headers)\n",
    "        train_writer.writeheader()\n",
    "    \n",
    "        test_writer = csv.DictWriter(test, delimiter=',', fieldnames=headers)\n",
    "        test_writer.writeheader()\n",
    "\n",
    "        for event,elem in parser:\n",
    "            row = {}\n",
    "            if elem.get('PostId') != None and int(elem.get('PostId')) in dic_train:\n",
    "                for header in headers: \n",
    "                    row[header] = elem.get(header)\n",
    "                train_writer.writerow(row)\n",
    "            elif elem.get('ParentId') != None and int(elem.get('PostId')) in dic_test:\n",
    "                for header in headers:\n",
    "                    row[header] = elem.get(header)\n",
    "                test_writer.writerow(row)\n",
    "            elem.clear()\n",
    "except IOError as e:\n",
    "    print ('Operation failed: %s' % e.strerror)"
   ]
  },
  {
   "cell_type": "code",
   "execution_count": 23,
   "metadata": {},
   "outputs": [
    {
     "name": "stdout",
     "output_type": "stream",
     "text": [
      "﻿<?xml version=\"1.0\" encoding=\"utf-8\"?>\n",
      "\n",
      "<users>\n",
      "\n",
      "  <row Id=\"-1\" Reputation=\"1\" CreationDate=\"2008-07-31T00:00:00.000\" DisplayName=\"Community\" LastAccessDate=\"2008-08-26T00:16:53.810\" WebsiteUrl=\"http://meta.stackexchange.com\" Location=\"on the server farm\" AboutMe=\"&lt;p&gt;Hi, I'm not really a person.&lt;/p&gt;&#xA;&#xA;&lt;p&gt;I'm a background process that helps keep this site clean!&lt;/p&gt;&#xA;&#xA;&lt;p&gt;I do things like&lt;/p&gt;&#xA;&#xA;&lt;ul&gt;&#xA;  &lt;li&gt;Randomly poke old unanswered questions every hour so they get some attention&lt;/li&gt;&#xA;  &lt;li&gt;Own community questions and answers so nobody gets unnecessary reputation from them&lt;/li&gt;&#xA;  &lt;li&gt;Own downvotes on spam/evil posts that get permanently deleted&lt;/li&gt;&#xA;  &lt;li&gt;Own suggested edits from anonymous users&lt;/li&gt;&#xA;  &lt;li&gt;&lt;a href=&quot;https://meta.stackexchange.com/a/92006&quot;&gt;Remove abandoned questions&lt;/a&gt;&lt;/li&gt;&#xA;&lt;/ul&gt;&#xA;\" Views=\"649\" UpVotes=\"353240\" DownVotes=\"1139933\" AccountId=\"-1\" />\n",
      "\n",
      "  <row Id=\"1\" Reputation=\"47044\" CreationDate=\"2008-07-31T14:22:31.287\" DisplayName=\"Jeff Atwood\" LastAccessDate=\"2019-08-16T05:05:51.480\" WebsiteUrl=\"http://www.codinghorror.com/blog/\" Location=\"El Cerrito, CA\" AboutMe=\"&lt;p&gt;&lt;a href=&quot;http://www.codinghorror.com/blog/archives/001169.html&quot; rel=&quot;nofollow&quot;&gt;Stack Overflow Valued Associate #00001&lt;/a&gt;&lt;/p&gt;&#xA;&#xA;&lt;p&gt;Wondering how our software development process works? &lt;a href=&quot;http://www.youtube.com/watch?v=08xQLGWTSag&quot; rel=&quot;nofollow&quot;&gt;Take a look!&lt;/a&gt;&lt;/p&gt;&#xA;&#xA;&lt;p&gt;Find me &lt;a href=&quot;http://twitter.com/codinghorror&quot; rel=&quot;nofollow&quot;&gt;on twitter&lt;/a&gt;, or &lt;a href=&quot;http://www.codinghorror.com/blog&quot; rel=&quot;nofollow&quot;&gt;read my blog&lt;/a&gt;. Don't say I didn't warn you &lt;em&gt;because I totally did&lt;/em&gt;.&lt;/p&gt;&#xA;&#xA;&lt;p&gt;However, &lt;a href=&quot;http://www.codinghorror.com/blog/2012/02/farewell-stack-exchange.html&quot; rel=&quot;nofollow&quot;&gt;I no longer work at Stack Exchange, Inc&lt;/a&gt;. I'll miss you all. Well, &lt;em&gt;some&lt;/em&gt; of you, anyway. :)&lt;/p&gt;&#xA;\" Views=\"496316\" UpVotes=\"3374\" DownVotes=\"1310\" ProfileImageUrl=\"https://www.gravatar.com/avatar/51d623f33f8b83095db84ff35e15dbe8?s=128&amp;amp;d=identicon&amp;amp;r=PG\" AccountId=\"1\" />\n",
      "\n",
      "  <row Id=\"2\" Reputation=\"3677\" CreationDate=\"2008-07-31T14:22:31.287\" DisplayName=\"Geoff Dalgas\" LastAccessDate=\"2019-08-29T19:51:51.283\" WebsiteUrl=\"http://stackoverflow.com\" Location=\"Corvallis, OR\" AboutMe=\"&lt;p&gt;Developer on the Stack Overflow team.  Find me on&lt;/p&gt;&#xA;&#xA;&lt;p&gt;&lt;a href=&quot;http://www.twitter.com/SuperDalgas&quot; rel=&quot;nofollow noreferrer&quot;&gt;Twitter&lt;/a&gt;&#xA;&lt;br&gt;&lt;br&gt;&#xA;&lt;a href=&quot;http://blog.stackoverflow.com/2009/05/welcome-stack-overflow-valued-associate-00003/&quot;&gt;Stack Overflow Valued Associate #00003&lt;/a&gt;&lt;/p&gt;&#xA;\" Views=\"25517\" UpVotes=\"654\" DownVotes=\"88\" ProfileImageUrl=\"https://i.stack.imgur.com/nDllk.png?s=256&amp;g=1\" AccountId=\"2\" />\n",
      "\n",
      "  <row Id=\"3\" Reputation=\"13706\" CreationDate=\"2008-07-31T14:22:31.287\" DisplayName=\"Jarrod Dixon\" LastAccessDate=\"2019-08-30T19:52:29.747\" WebsiteUrl=\"http://jarroddixon.com\" Location=\"Raleigh, NC, United States\" AboutMe=\"&lt;p&gt;&lt;a href=&quot;http://blog.stackoverflow.com/2009/01/welcome-stack-overflow-valued-associate-00002/&quot;&gt;Developer on the Stack Overflow team&lt;/a&gt;.&lt;/p&gt;&#xA;&#xA;&lt;p&gt;Was dubbed &lt;strong&gt;SALTY SAILOR&lt;/strong&gt; by Jeff Atwood, as filth and flarn would oft-times fly when dealing with a particularly nasty bug!&lt;/p&gt;&#xA;&#xA;&lt;ul&gt;&#xA;&lt;li&gt;Twitter me: &lt;a href=&quot;http://twitter.com/jarrod_dixon&quot; rel=&quot;nofollow noreferrer&quot;&gt;jarrod_dixon&lt;/a&gt;&lt;/li&gt;&#xA;&lt;li&gt;Email me: jarrod.m.dixon@gmail.com&lt;/li&gt;&#xA;&lt;/ul&gt;&#xA;\" Views=\"25538\" UpVotes=\"7524\" DownVotes=\"100\" ProfileImageUrl=\"https://i.stack.imgur.com/2mwFl.jpg?s=256&amp;g=1\" AccountId=\"3\" />\n",
      "\n",
      "  <row Id=\"4\" Reputation=\"29608\" CreationDate=\"2008-07-31T14:22:31.317\" DisplayName=\"Joel Spolsky\" LastAccessDate=\"2019-08-11T05:08:53.910\" WebsiteUrl=\"http://www.joelonsoftware.com/\" Location=\"New York, NY\" AboutMe=\"&lt;p&gt;I am:&lt;/p&gt;&#xA;&#xA;&lt;ul&gt;&#xA;&lt;li&gt;the co-founder and CEO of &lt;a href=&quot;http://stackoverflow.com&quot;&gt;Stack Overflow&lt;/a&gt;&lt;/li&gt;&#xA;&lt;li&gt;the co-founder of &lt;a href=&quot;http://www.fogcreek.com&quot; rel=&quot;nofollow noreferrer&quot;&gt;Fog Creek Software&lt;/a&gt;&lt;/li&gt;&#xA;&lt;li&gt;the creator of &lt;a href=&quot;http://trello.com&quot; rel=&quot;nofollow noreferrer&quot;&gt;Trello&lt;/a&gt; (now owned by Atlassian)&lt;/li&gt;&#xA;&lt;/ul&gt;&#xA;&#xA;&lt;p&gt;You can find me on my rarely-updated blog, &lt;a href=&quot;http://joelonsoftware.com&quot; rel=&quot;nofollow noreferrer&quot;&gt;Joel on Software&lt;/a&gt;.&lt;/p&gt;&#xA;\" Views=\"76344\" UpVotes=\"801\" DownVotes=\"96\" ProfileImageUrl=\"https://i.stack.imgur.com/C5gBG.jpg?s=128&amp;g=1\" AccountId=\"4\" />\n",
      "\n",
      "  <row Id=\"5\" Reputation=\"40819\" CreationDate=\"2008-07-31T14:22:31.317\" DisplayName=\"Jon Galloway\" LastAccessDate=\"2019-09-01T04:03:18.900\" WebsiteUrl=\"http://weblogs.asp.net/jgalloway/\" Location=\"San Diego, CA\" AboutMe=\"&lt;p&gt;Technical Evangelist at Microsoft, specializing in ASP.NET MVC.&lt;/p&gt;&#xA;&#xA;&lt;p&gt;I don't use this site anymore because the moderators close or delete far too many of the useful questions.&lt;/p&gt;&#xA;\" Views=\"12534\" UpVotes=\"785\" DownVotes=\"34\" AccountId=\"5\" />\n",
      "\n",
      "  <row Id=\"8\" Reputation=\"942\" CreationDate=\"2008-07-31T21:33:24.057\" DisplayName=\"Eggs McLaren\" LastAccessDate=\"2018-04-09T02:04:55.577\" WebsiteUrl=\"\" Location=\"\" AboutMe=\"&lt;p&gt;This is a puppet test account I use to validate &quot;regular user&quot; stuff on the site&lt;/p&gt;&#xD;&#xA;&lt;p&gt;-- &lt;a href=&quot;http://stackoverflow.com/users/1/jeff-atwood&quot; rel=&quot;nofollow&quot;&gt;Jeff Atwood&lt;/a&gt;\" Views=\"6983\" UpVotes=\"12\" DownVotes=\"9\" AccountId=\"6\" />\n",
      "\n",
      "  <row Id=\"9\" Reputation=\"15643\" CreationDate=\"2008-07-31T21:35:26.517\" DisplayName=\"Kevin Dente\" LastAccessDate=\"2019-08-30T22:04:07.940\" WebsiteUrl=\"http://weblogs.asp.net/kdente\" Location=\"Oakland, CA\" AboutMe=\"&lt;p&gt;Independent software engineer&lt;/p&gt;&#xA;\" Views=\"5497\" UpVotes=\"47\" DownVotes=\"4\" AccountId=\"7\" />\n",
      "\n"
     ]
    }
   ],
   "source": [
    "with open(\"./Data/Users.xml\",\"r\") as f: \n",
    "    for i in range(10):\n",
    "        print (f.readline())"
   ]
  },
  {
   "cell_type": "code",
   "execution_count": 28,
   "metadata": {},
   "outputs": [
    {
     "name": "stdout",
     "output_type": "stream",
     "text": [
      "['Id', 'Reputation', 'CreationDate', 'DisplayName', 'LastAccessDate', 'WebsiteUrl', 'Location', 'AboutMe', 'Views', 'UpVotes', 'DownVotes', 'AccountId', 'ProfileImageUrl']\n"
     ]
    }
   ],
   "source": [
    "#Get User header table\n",
    "counter = 0\n",
    "filePath = './Data/Users.xml'\n",
    "parser = et.iterparse(filePath)\n",
    "headers = []\n",
    "for event,elem in parser:\n",
    "    for key in elem.attrib.keys(): \n",
    "        if key not in headers:\n",
    "            headers.append(key)\n",
    "    counter += 1\n",
    "    if counter>10:\n",
    "        break\n",
    "    elem.clear()\n",
    "print (headers)\n",
    "headers.remove('WebsiteUrl')\n",
    "headers.remove('ProfileImageUrl')\n"
   ]
  },
  {
   "cell_type": "code",
   "execution_count": 29,
   "metadata": {},
   "outputs": [],
   "source": [
    "train_df1 = pd.read_csv('./Question_train.csv')\n",
    "test_df1 = pd.read_csv('./Question_test.csv')\n",
    "\n",
    "train_df2 = pd.read_csv('./Answer_train.csv')\n",
    "test_df2 = pd.read_csv('./Answer_test.csv')\n",
    "\n",
    "train_df3 = pd.read_csv('./Comments_train.csv')\n",
    "test_df3 = pd.read_csv('./Comments_test.csv')\n",
    "\n",
    "from collections import OrderedDict #Compatible for both python 2 and python 3\n",
    "\n",
    "usersTrain_check = OrderedDict.fromkeys([*train_df1['OwnerUserId'].tolist(),*train_df2['OwnerUserId'].tolist(),*train_df3['UserId'].tolist()])\n",
    "usersTest_check = OrderedDict.fromkeys([*test_df1['OwnerUserId'].tolist(),*test_df2['OwnerUserId'].tolist(),*test_df3['UserId'].tolist()])\n",
    "\n",
    "del test_df1, train_df1, test_df2, train_df2, test_df3, train_df3\n",
    "gc.collect()                    \n",
    "                       \n",
    "parser = et.iterparse(filePath) #redifine is necessary\n",
    "try:\n",
    "    with open('./Users_train.csv', mode='w') as train, open('./Users_test.csv', mode='w') as test:\n",
    "        train_writer = csv.DictWriter(train, delimiter=',', fieldnames=headers)\n",
    "        train_writer.writeheader()\n",
    "    \n",
    "        test_writer = csv.DictWriter(test, delimiter=',', fieldnames=headers)\n",
    "        test_writer.writeheader()\n",
    "\n",
    "        for event,elem in parser:\n",
    "            row = {}\n",
    "            if elem.get('Id') != None and int(elem.get('Id')) in usersTrain_check:\n",
    "                for header in headers: \n",
    "                    row[header] = elem.get(header)\n",
    "                train_writer.writerow(row)\n",
    "            elif elem.get('Id') != None and int(elem.get('Id')) in usersTest_check:\n",
    "                for header in headers:\n",
    "                    row[header] = elem.get(header)\n",
    "                test_writer.writerow(row)\n",
    "            elem.clear()\n",
    "except IOError as e:\n",
    "    print ('Operation failed: %s' % e.strerror)                       "
   ]
  },
  {
   "cell_type": "code",
   "execution_count": null,
   "metadata": {},
   "outputs": [],
   "source": []
  }
 ],
 "metadata": {
  "kernelspec": {
   "display_name": "Python 3",
   "language": "python",
   "name": "python3"
  },
  "language_info": {
   "codemirror_mode": {
    "name": "ipython",
    "version": 3
   },
   "file_extension": ".py",
   "mimetype": "text/x-python",
   "name": "python",
   "nbconvert_exporter": "python",
   "pygments_lexer": "ipython3",
   "version": "3.6.9"
  }
 },
 "nbformat": 4,
 "nbformat_minor": 2
}
